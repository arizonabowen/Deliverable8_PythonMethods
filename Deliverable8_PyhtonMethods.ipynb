{
  "nbformat": 4,
  "nbformat_minor": 0,
  "metadata": {
    "colab": {
      "provenance": []
    },
    "kernelspec": {
      "name": "python3",
      "display_name": "Python 3"
    },
    "language_info": {
      "name": "python"
    }
  },
  "cells": [
    {
      "cell_type": "code",
      "execution_count": null,
      "metadata": {
        "id": "gJcn9sxkxFN2"
      },
      "outputs": [],
      "source": [
        "# Author: Jacquelyn Bowen\n",
        "# Date: 04/01/2023\n",
        "# Description: This project is meant to replicate PROGRAM (4) from Deliverable (5) from our class, but using Python this time as opposed to C#\n",
        "\n",
        "# Import the random module for generating random integers\n",
        "import random\n",
        "\n",
        "# Define Method 1\n",
        "def populate_list(length):\n",
        "    # Create an empty list\n",
        "    lst = []\n",
        "    # Populate the list with random integers between 10 and 50\n",
        "    for i in range(length):\n",
        "        lst.append(random.randint(10, 50))\n",
        "    return lst\n",
        "\n",
        "# Define Method 2\n",
        "def sum_list(lst):\n",
        "    # Initialize the sum to zero\n",
        "    total = 0\n",
        "    # Add each element in the list to the sum\n",
        "    for i in lst:\n",
        "        total += i\n",
        "    return total\n",
        "\n",
        "# Ask the user to enter a number between 5 and 15\n",
        "while True:\n",
        "    try:\n",
        "        n = int(input(\"Please enter an integer between 5 and 15: \"))\n",
        "        if n < 5 or n > 15:\n",
        "            raise ValueError\n",
        "        break\n",
        "    except ValueError:\n",
        "        print(\"Invalid entry. Please try again.\")\n",
        "\n",
        "# Use Method 1 to populate a list of length n\n",
        "lst = populate_list(n)\n",
        "\n",
        "# Display the list elements\n",
        "print(\"Your list elements are:\", lst)\n",
        "\n",
        "# Use Method 2 to sum the list elements\n",
        "total = sum_list(lst)\n",
        "\n",
        "# Display the total sum\n",
        "print(\"The total sum of the list elements is:\", total)\n",
        "\n"
      ]
    }
  ]
}